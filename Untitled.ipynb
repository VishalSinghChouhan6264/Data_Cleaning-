{
 "cells": [
  {
   "cell_type": "code",
   "execution_count": null,
   "id": "5dcafc0e",
   "metadata": {},
   "outputs": [],
   "source": [
    "pip install pandas"
   ]
  },
  {
   "cell_type": "code",
   "execution_count": 1,
   "id": "ed3a3169",
   "metadata": {},
   "outputs": [
    {
     "name": "stderr",
     "output_type": "stream",
     "text": [
      "C:\\Users\\vrajp\\anaconda3\\lib\\site-packages\\pandas\\core\\computation\\expressions.py:21: UserWarning: Pandas requires version '2.8.4' or newer of 'numexpr' (version '2.8.1' currently installed).\n",
      "  from pandas.core.computation.check import NUMEXPR_INSTALLED\n",
      "C:\\Users\\vrajp\\anaconda3\\lib\\site-packages\\pandas\\core\\arrays\\masked.py:60: UserWarning: Pandas requires version '1.3.6' or newer of 'bottleneck' (version '1.3.4' currently installed).\n",
      "  from pandas.core import (\n"
     ]
    }
   ],
   "source": [
    "import pandas as pd"
   ]
  },
  {
   "cell_type": "code",
   "execution_count": 2,
   "id": "0caae42a",
   "metadata": {},
   "outputs": [],
   "source": [
    "data = pd.read_json(\"C:\\\\Users\\\\vrajp\\\\Downloads\\\\zfunds.in (3)\\\\zfunds.in.json\",encoding=\"utf-16\",lines=True)"
   ]
  },
  {
   "cell_type": "code",
   "execution_count": 7,
   "id": "8797db6a",
   "metadata": {},
   "outputs": [
    {
     "data": {
      "text/html": [
       "<div>\n",
       "<style scoped>\n",
       "    .dataframe tbody tr th:only-of-type {\n",
       "        vertical-align: middle;\n",
       "    }\n",
       "\n",
       "    .dataframe tbody tr th {\n",
       "        vertical-align: top;\n",
       "    }\n",
       "\n",
       "    .dataframe thead th {\n",
       "        text-align: right;\n",
       "    }\n",
       "</style>\n",
       "<table border=\"1\" class=\"dataframe\">\n",
       "  <thead>\n",
       "    <tr style=\"text-align: right;\">\n",
       "      <th></th>\n",
       "      <th>_id</th>\n",
       "      <th>_index</th>\n",
       "      <th>_score</th>\n",
       "      <th>_source</th>\n",
       "      <th>_type</th>\n",
       "      <th>sort</th>\n",
       "      <th>_ignored</th>\n",
       "    </tr>\n",
       "  </thead>\n",
       "  <tbody>\n",
       "    <tr>\n",
       "      <th>0</th>\n",
       "      <td>9f442d97-2d46-4ff1-9f7b-d90a3a524570</td>\n",
       "      <td>users</td>\n",
       "      <td>NaN</td>\n",
       "      <td>{'about': 'NR Shreyas CrossingAmbawadiAhmedaba...</td>\n",
       "      <td>users</td>\n",
       "      <td>[0]</td>\n",
       "      <td>NaN</td>\n",
       "    </tr>\n",
       "    <tr>\n",
       "      <th>1</th>\n",
       "      <td>4cf8f42e-71db-4fa3-a302-c2bcb50b2487</td>\n",
       "      <td>users</td>\n",
       "      <td>NaN</td>\n",
       "      <td>{'about': 'Kantilal ComplexMohoneKalyan421102M...</td>\n",
       "      <td>users</td>\n",
       "      <td>[1]</td>\n",
       "      <td>NaN</td>\n",
       "    </tr>\n",
       "    <tr>\n",
       "      <th>2</th>\n",
       "      <td>bee8f955-e73a-4035-8293-d0e16d0b791d</td>\n",
       "      <td>users</td>\n",
       "      <td>NaN</td>\n",
       "      <td>{'about': 'Rekha Nitin Shah is a AMFI register...</td>\n",
       "      <td>users</td>\n",
       "      <td>[2]</td>\n",
       "      <td>[about.keyword]</td>\n",
       "    </tr>\n",
       "    <tr>\n",
       "      <th>3</th>\n",
       "      <td>4eb590c9-de32-4ea6-a92b-4c0781d902b6</td>\n",
       "      <td>users</td>\n",
       "      <td>NaN</td>\n",
       "      <td>{'about': 'Asian Markets Securities Pvt. Ltd i...</td>\n",
       "      <td>users</td>\n",
       "      <td>[3]</td>\n",
       "      <td>[about.keyword]</td>\n",
       "    </tr>\n",
       "    <tr>\n",
       "      <th>4</th>\n",
       "      <td>597cadea-d63a-4828-b73c-da8dfff329f1</td>\n",
       "      <td>users</td>\n",
       "      <td>NaN</td>\n",
       "      <td>{'about': 'Biswajit Mondal is a AMFI registere...</td>\n",
       "      <td>users</td>\n",
       "      <td>[4]</td>\n",
       "      <td>[about.keyword]</td>\n",
       "    </tr>\n",
       "    <tr>\n",
       "      <th>...</th>\n",
       "      <td>...</td>\n",
       "      <td>...</td>\n",
       "      <td>...</td>\n",
       "      <td>...</td>\n",
       "      <td>...</td>\n",
       "      <td>...</td>\n",
       "      <td>...</td>\n",
       "    </tr>\n",
       "    <tr>\n",
       "      <th>134732</th>\n",
       "      <td>888d1e38-1dd9-48c4-9ea7-a2c4909d16c9</td>\n",
       "      <td>users</td>\n",
       "      <td>NaN</td>\n",
       "      <td>{'createdAt': '2021-03-08T14:12:36.975Z', 'dev...</td>\n",
       "      <td>users</td>\n",
       "      <td>[137402]</td>\n",
       "      <td>NaN</td>\n",
       "    </tr>\n",
       "    <tr>\n",
       "      <th>134733</th>\n",
       "      <td>552e522a-35eb-468d-989d-951f9036f823</td>\n",
       "      <td>users</td>\n",
       "      <td>NaN</td>\n",
       "      <td>{'address': 'SIPARA WEST NEAR RAILWAY LIINE GU...</td>\n",
       "      <td>users</td>\n",
       "      <td>[137404]</td>\n",
       "      <td>NaN</td>\n",
       "    </tr>\n",
       "    <tr>\n",
       "      <th>134734</th>\n",
       "      <td>6a618271-ef85-4dae-93f3-affdf5d08b6d</td>\n",
       "      <td>users</td>\n",
       "      <td>NaN</td>\n",
       "      <td>{'device_type': 'android', 'id': '6a618271-ef8...</td>\n",
       "      <td>users</td>\n",
       "      <td>[137405]</td>\n",
       "      <td>NaN</td>\n",
       "    </tr>\n",
       "    <tr>\n",
       "      <th>134735</th>\n",
       "      <td>2d03d8a0-1cab-43d2-8b60-b1580cbdf885</td>\n",
       "      <td>users</td>\n",
       "      <td>NaN</td>\n",
       "      <td>{'device_type': 'android', 'id': '2d03d8a0-1ca...</td>\n",
       "      <td>users</td>\n",
       "      <td>[137406]</td>\n",
       "      <td>NaN</td>\n",
       "    </tr>\n",
       "    <tr>\n",
       "      <th>134736</th>\n",
       "      <td>603ff4da-ddeb-45cd-836d-081b63a9ba34</td>\n",
       "      <td>users</td>\n",
       "      <td>NaN</td>\n",
       "      <td>{'address': '26.4260236,91.6051005', 'createdA...</td>\n",
       "      <td>users</td>\n",
       "      <td>[137407]</td>\n",
       "      <td>NaN</td>\n",
       "    </tr>\n",
       "  </tbody>\n",
       "</table>\n",
       "<p>134737 rows × 7 columns</p>\n",
       "</div>"
      ],
      "text/plain": [
       "                                         _id _index  _score  \\\n",
       "0       9f442d97-2d46-4ff1-9f7b-d90a3a524570  users     NaN   \n",
       "1       4cf8f42e-71db-4fa3-a302-c2bcb50b2487  users     NaN   \n",
       "2       bee8f955-e73a-4035-8293-d0e16d0b791d  users     NaN   \n",
       "3       4eb590c9-de32-4ea6-a92b-4c0781d902b6  users     NaN   \n",
       "4       597cadea-d63a-4828-b73c-da8dfff329f1  users     NaN   \n",
       "...                                      ...    ...     ...   \n",
       "134732  888d1e38-1dd9-48c4-9ea7-a2c4909d16c9  users     NaN   \n",
       "134733  552e522a-35eb-468d-989d-951f9036f823  users     NaN   \n",
       "134734  6a618271-ef85-4dae-93f3-affdf5d08b6d  users     NaN   \n",
       "134735  2d03d8a0-1cab-43d2-8b60-b1580cbdf885  users     NaN   \n",
       "134736  603ff4da-ddeb-45cd-836d-081b63a9ba34  users     NaN   \n",
       "\n",
       "                                                  _source  _type      sort  \\\n",
       "0       {'about': 'NR Shreyas CrossingAmbawadiAhmedaba...  users       [0]   \n",
       "1       {'about': 'Kantilal ComplexMohoneKalyan421102M...  users       [1]   \n",
       "2       {'about': 'Rekha Nitin Shah is a AMFI register...  users       [2]   \n",
       "3       {'about': 'Asian Markets Securities Pvt. Ltd i...  users       [3]   \n",
       "4       {'about': 'Biswajit Mondal is a AMFI registere...  users       [4]   \n",
       "...                                                   ...    ...       ...   \n",
       "134732  {'createdAt': '2021-03-08T14:12:36.975Z', 'dev...  users  [137402]   \n",
       "134733  {'address': 'SIPARA WEST NEAR RAILWAY LIINE GU...  users  [137404]   \n",
       "134734  {'device_type': 'android', 'id': '6a618271-ef8...  users  [137405]   \n",
       "134735  {'device_type': 'android', 'id': '2d03d8a0-1ca...  users  [137406]   \n",
       "134736  {'address': '26.4260236,91.6051005', 'createdA...  users  [137407]   \n",
       "\n",
       "               _ignored  \n",
       "0                   NaN  \n",
       "1                   NaN  \n",
       "2       [about.keyword]  \n",
       "3       [about.keyword]  \n",
       "4       [about.keyword]  \n",
       "...                 ...  \n",
       "134732              NaN  \n",
       "134733              NaN  \n",
       "134734              NaN  \n",
       "134735              NaN  \n",
       "134736              NaN  \n",
       "\n",
       "[134737 rows x 7 columns]"
      ]
     },
     "execution_count": 7,
     "metadata": {},
     "output_type": "execute_result"
    }
   ],
   "source": [
    "data"
   ]
  },
  {
   "cell_type": "code",
   "execution_count": 8,
   "id": "a1c53727",
   "metadata": {},
   "outputs": [
    {
     "data": {
      "text/plain": [
       "{'about': 'NR Shreyas CrossingAmbawadiAhmedabad380006GUINDIABDEPS4292NBDEPS4292NGujaratjapanshah22@gmail.com25466694+91989894929244854YFinancial Planning, Mutual Funds, NISM certified',\n",
       " 'address': '606, Puspak Tower ,NR Shreyas Crossing ,Ambawadi',\n",
       " 'arn': '37100',\n",
       " 'arn_valid_till': '20/10/2022',\n",
       " 'capabilities': [' Mutual Funds', ' NISM certified', 'Financial Planning'],\n",
       " 'city': 'Ahmedabad',\n",
       " 'createdAt': '2020-01-19T16:21:08.012Z',\n",
       " 'es_refresh': '2022-05-13T15:08:00.591Z',\n",
       " 'id': '9f442d97-2d46-4ff1-9f7b-d90a3a524570',\n",
       " 'kyd_compliant': 'Y',\n",
       " 'name': 'Japan Madhusudan Shah',\n",
       " 'products': ['Mutual Funds'],\n",
       " 'profile_status': 'incomplete',\n",
       " 'role': ['expert'],\n",
       " 'status': 'unclaimed',\n",
       " 'telephoneO': '25466694'}"
      ]
     },
     "execution_count": 8,
     "metadata": {},
     "output_type": "execute_result"
    }
   ],
   "source": [
    "data[\"_source\"][0]"
   ]
  },
  {
   "cell_type": "code",
   "execution_count": 10,
   "id": "adde6296",
   "metadata": {},
   "outputs": [
    {
     "data": {
      "text/plain": [
       "{'about': \"Rekha Nitin Shah is a AMFI registered distributor.  Rekha Nitin Shah's office is located at FLAT NO 4, 2nd FlOORCHANDANGIRI BUILDING TILAK ROADOPP ASHA PAREKH HOSPITAL SANTACRUZ WESTMUMBAI.  They are licensed to distribute mutual funds under PAN number AONPS5949B and they are KYD (Know Your Distributor) Complaint.  All transactions to Rekha Nitin Shah are tagged in ARN-127424\",\n",
       " 'address': 'FLAT NO 4, 2nd FlOOR,CHANDANGIRI BUILDING TILAK ROAD,OPP ASHA PAREKH HOSPITAL SANTACRUZ WEST',\n",
       " 'arn': '127424',\n",
       " 'arn_valid_till': '20/07/2020',\n",
       " 'capabilities': [' Mutual Funds', ' NISM certified', 'Financial Planning'],\n",
       " 'city': 'MUMBAI',\n",
       " 'createdAt': '2019-12-18T20:15:58.666Z',\n",
       " 'es_refresh': '2022-05-13T15:09:51.295Z',\n",
       " 'id': 'bee8f955-e73a-4035-8293-d0e16d0b791d',\n",
       " 'kyd_compliant': 'Yes',\n",
       " 'name': 'Rekha Nitin Shah',\n",
       " 'pin': '400054',\n",
       " 'products': ['Mutual Funds '],\n",
       " 'profile_status': 'incomplete',\n",
       " 'role': ['expert'],\n",
       " 'status': 'unclaimed'}"
      ]
     },
     "execution_count": 10,
     "metadata": {},
     "output_type": "execute_result"
    }
   ],
   "source": [
    "data[\"_source\"][2]"
   ]
  },
  {
   "cell_type": "code",
   "execution_count": null,
   "id": "7a28d2a1",
   "metadata": {},
   "outputs": [],
   "source": []
  }
 ],
 "metadata": {
  "kernelspec": {
   "display_name": "Python 3 (ipykernel)",
   "language": "python",
   "name": "python3"
  },
  "language_info": {
   "codemirror_mode": {
    "name": "ipython",
    "version": 3
   },
   "file_extension": ".py",
   "mimetype": "text/x-python",
   "name": "python",
   "nbconvert_exporter": "python",
   "pygments_lexer": "ipython3",
   "version": "3.9.12"
  }
 },
 "nbformat": 4,
 "nbformat_minor": 5
}
